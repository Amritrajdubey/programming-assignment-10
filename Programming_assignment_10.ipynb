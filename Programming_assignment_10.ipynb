{
 "cells": [
  {
   "cell_type": "code",
   "execution_count": null,
   "id": "16741d6f",
   "metadata": {},
   "outputs": [],
   "source": [
    "1. Write a Python program to find sum of elements in list?"
   ]
  },
  {
   "cell_type": "code",
   "execution_count": 81,
   "id": "32c23b1d",
   "metadata": {},
   "outputs": [],
   "source": [
    "def sum_list(x):\n",
    "    l=[]\n",
    "    for i in x:\n",
    "        if type(i)== int:\n",
    "            l.append(i)\n",
    "        if type(i)== float :\n",
    "            l.append(i)\n",
    "    print(sum(l))"
   ]
  },
  {
   "cell_type": "code",
   "execution_count": 82,
   "id": "f334edb3",
   "metadata": {},
   "outputs": [
    {
     "name": "stdout",
     "output_type": "stream",
     "text": [
      "92.75\n"
     ]
    }
   ],
   "source": [
    "sum_list(['X',10,25,'A','abc',15,1.5,16,25,0.25])"
   ]
  },
  {
   "cell_type": "code",
   "execution_count": null,
   "id": "eeaad165",
   "metadata": {},
   "outputs": [],
   "source": [
    "2. Write a Python program to Multiply all numbers in the list?"
   ]
  },
  {
   "cell_type": "code",
   "execution_count": 13,
   "id": "37b1545c",
   "metadata": {},
   "outputs": [],
   "source": [
    "def Mul_list(x):\n",
    "    count =1\n",
    "    for i in x:\n",
    "        if type(i)==int:\n",
    "            count = i * count\n",
    "    return count\n",
    "    count += 1"
   ]
  },
  {
   "cell_type": "code",
   "execution_count": 15,
   "id": "4e631755",
   "metadata": {},
   "outputs": [
    {
     "data": {
      "text/plain": [
       "2000"
      ]
     },
     "execution_count": 15,
     "metadata": {},
     "output_type": "execute_result"
    }
   ],
   "source": [
    "Mul_list([2,10,'AX',5,4,'ABC',5,'X'])"
   ]
  },
  {
   "cell_type": "code",
   "execution_count": null,
   "id": "039083e5",
   "metadata": {},
   "outputs": [],
   "source": [
    "3. Write a Python program to find smallest number in a list?"
   ]
  },
  {
   "cell_type": "code",
   "execution_count": 6,
   "id": "87b27457",
   "metadata": {},
   "outputs": [],
   "source": [
    "def small_no(x):\n",
    "    print('Smallest no of list is  : ',min(x))"
   ]
  },
  {
   "cell_type": "code",
   "execution_count": 26,
   "id": "bb993f98",
   "metadata": {},
   "outputs": [
    {
     "name": "stdout",
     "output_type": "stream",
     "text": [
      "Smallest no of list is  :  2\n"
     ]
    }
   ],
   "source": [
    "small_no([10,2,5,25,10,13])"
   ]
  },
  {
   "cell_type": "code",
   "execution_count": 24,
   "id": "d2240910",
   "metadata": {},
   "outputs": [
    {
     "name": "stdout",
     "output_type": "stream",
     "text": [
      "smallest no is  :  4\n"
     ]
    }
   ],
   "source": [
    "# 2nd way to find smallest no\n",
    "list1 = [10,5,113,4,19]\n",
    "list1.sort()\n",
    "print('smallest no is  : ',list1[0])"
   ]
  },
  {
   "cell_type": "code",
   "execution_count": null,
   "id": "65e149e8",
   "metadata": {},
   "outputs": [],
   "source": [
    "4. Write a Python program to find largest number in a list?"
   ]
  },
  {
   "cell_type": "code",
   "execution_count": 9,
   "id": "dc036894",
   "metadata": {},
   "outputs": [],
   "source": [
    "def max_no(x):\n",
    "    print('Largest no out of list is  : ',max(x))"
   ]
  },
  {
   "cell_type": "code",
   "execution_count": 27,
   "id": "9b062655",
   "metadata": {},
   "outputs": [
    {
     "name": "stdout",
     "output_type": "stream",
     "text": [
      "Largest no out of list is  :  111\n"
     ]
    }
   ],
   "source": [
    "max_no([10,2,45,85,30,111,17])"
   ]
  },
  {
   "cell_type": "code",
   "execution_count": 25,
   "id": "dbbb40fa",
   "metadata": {},
   "outputs": [
    {
     "name": "stdout",
     "output_type": "stream",
     "text": [
      "smallest no is  :  113\n"
     ]
    }
   ],
   "source": [
    "# 2nd way to find largest no \n",
    "list1 = [10,5,113,4,19]\n",
    "list1.sort()\n",
    "print('smallest no is  : ',list1[4])"
   ]
  },
  {
   "cell_type": "code",
   "execution_count": null,
   "id": "0ee93488",
   "metadata": {},
   "outputs": [],
   "source": [
    "5. Write a Python program to find second largest number in a list?"
   ]
  },
  {
   "cell_type": "code",
   "execution_count": 28,
   "id": "489641b4",
   "metadata": {},
   "outputs": [
    {
     "name": "stdout",
     "output_type": "stream",
     "text": [
      "smallest no is  :  5\n"
     ]
    }
   ],
   "source": [
    "list1 = [10,5,113,4,19]\n",
    "list1.sort()\n",
    "print('smallest no is  : ',list1[1])"
   ]
  },
  {
   "cell_type": "code",
   "execution_count": null,
   "id": "14372032",
   "metadata": {},
   "outputs": [],
   "source": [
    "6. Write a Python program to find N largest elements from a list?"
   ]
  },
  {
   "cell_type": "code",
   "execution_count": 40,
   "id": "9ca19f5d",
   "metadata": {},
   "outputs": [
    {
     "name": "stdout",
     "output_type": "stream",
     "text": [
      "Provide the N th no to find the largest element  : 2\n",
      "2 nd/th largest no is  :  113\n"
     ]
    }
   ],
   "source": [
    "n = int(input('Provide the N th no to find the largest element  : '))\n",
    "list1 = [10,5,113,4,19,44,46,8,79,150,35,6]\n",
    "if n < len(list1):\n",
    "    list1.sort()\n",
    "    print(n,'nd/th largest no is  : ',list1[len(list1)-n])\n",
    "else :\n",
    "    print('Provided no is more then length of list ')"
   ]
  },
  {
   "cell_type": "code",
   "execution_count": null,
   "id": "0a429e8c",
   "metadata": {},
   "outputs": [],
   "source": [
    "7. Write a Python program to print even numbers in a list?"
   ]
  },
  {
   "cell_type": "code",
   "execution_count": 62,
   "id": "d7291052",
   "metadata": {},
   "outputs": [],
   "source": [
    "def even_no(x):\n",
    "    l=[]\n",
    "    for i in x:\n",
    "        if type(i)== int:\n",
    "            if i%2 == 0:\n",
    "                l.append(i)\n",
    "    print(l)"
   ]
  },
  {
   "cell_type": "code",
   "execution_count": 63,
   "id": "95fc4139",
   "metadata": {},
   "outputs": [
    {
     "name": "stdout",
     "output_type": "stream",
     "text": [
      "[16, 10, 24, 94, 86]\n"
     ]
    }
   ],
   "source": [
    "even_no([11,16,10,31,24,105,85,94,86])"
   ]
  },
  {
   "cell_type": "code",
   "execution_count": null,
   "id": "936e2b0c",
   "metadata": {},
   "outputs": [],
   "source": [
    "8. Write a Python program to print odd numbers in a List?"
   ]
  },
  {
   "cell_type": "code",
   "execution_count": 64,
   "id": "427f6cce",
   "metadata": {},
   "outputs": [],
   "source": [
    "def odd_no(x):\n",
    "    l=[]\n",
    "    for i in x:\n",
    "        if type(i)== int:\n",
    "            if i%2 != 0:\n",
    "                l.append(i)\n",
    "    print(l)"
   ]
  },
  {
   "cell_type": "code",
   "execution_count": 65,
   "id": "aa1399c0",
   "metadata": {},
   "outputs": [
    {
     "name": "stdout",
     "output_type": "stream",
     "text": [
      "[11, 31, 105, 85]\n"
     ]
    }
   ],
   "source": [
    "odd_no([11,16,10,31,24,105,85,94,86])"
   ]
  },
  {
   "cell_type": "code",
   "execution_count": null,
   "id": "4f14b5a6",
   "metadata": {},
   "outputs": [],
   "source": [
    "9. Write a Python program to Remove empty List from List?"
   ]
  },
  {
   "cell_type": "code",
   "execution_count": 48,
   "id": "e82e7bfb",
   "metadata": {},
   "outputs": [
    {
     "name": "stdout",
     "output_type": "stream",
     "text": [
      "[12, 5, 'X', [12, 56, 10], 5, [45, 'ABC'], 100, 89]\n"
     ]
    }
   ],
   "source": [
    "l = [12,5,'X',[12,56,10],5,[],[45,'ABC'],100,[],89]\n",
    "l1 =[]\n",
    "for i in l:\n",
    "    if type(i) != list:\n",
    "        l1.append(i)\n",
    "    if type(i)== list:\n",
    "        if len(i) == 0:\n",
    "            continue\n",
    "        l1.append(i)\n",
    "print(l1)\n",
    "        "
   ]
  },
  {
   "cell_type": "code",
   "execution_count": null,
   "id": "fe6e592e",
   "metadata": {},
   "outputs": [],
   "source": [
    "10. Write a Python program to Cloning or Copying a list?"
   ]
  },
  {
   "cell_type": "code",
   "execution_count": 49,
   "id": "a8e055b2",
   "metadata": {},
   "outputs": [],
   "source": [
    "def list_copy(l):\n",
    "    l1 = l[:]\n",
    "    return l1"
   ]
  },
  {
   "cell_type": "code",
   "execution_count": 50,
   "id": "10a24fe2",
   "metadata": {},
   "outputs": [
    {
     "data": {
      "text/plain": [
       "[21, 10, 'X', 80, 'Y']"
      ]
     },
     "execution_count": 50,
     "metadata": {},
     "output_type": "execute_result"
    }
   ],
   "source": [
    "list_copy([21,10,'X',80,'Y'])"
   ]
  },
  {
   "cell_type": "code",
   "execution_count": null,
   "id": "78d2db86",
   "metadata": {},
   "outputs": [],
   "source": [
    "11. Write a Python program to Count occurrences of an element in a list?"
   ]
  },
  {
   "cell_type": "code",
   "execution_count": 53,
   "id": "be3f1207",
   "metadata": {},
   "outputs": [
    {
     "name": "stdout",
     "output_type": "stream",
     "text": [
      "5  :  2\n",
      "4  :  2\n",
      "2  :  1\n",
      "10  :  2\n",
      "8  :  1\n",
      "4  :  2\n",
      "6  :  1\n",
      "5  :  2\n",
      "79  :  1\n",
      "10  :  2\n"
     ]
    }
   ],
   "source": [
    "l=[5,4,2,10,8,4,6,5,79,10]\n",
    "for i in l:\n",
    "    print(i,' : ',l.count(i))"
   ]
  },
  {
   "cell_type": "code",
   "execution_count": null,
   "id": "7da2b336",
   "metadata": {},
   "outputs": [],
   "source": []
  }
 ],
 "metadata": {
  "kernelspec": {
   "display_name": "Python 3 (ipykernel)",
   "language": "python",
   "name": "python3"
  },
  "language_info": {
   "codemirror_mode": {
    "name": "ipython",
    "version": 3
   },
   "file_extension": ".py",
   "mimetype": "text/x-python",
   "name": "python",
   "nbconvert_exporter": "python",
   "pygments_lexer": "ipython3",
   "version": "3.9.7"
  }
 },
 "nbformat": 4,
 "nbformat_minor": 5
}
